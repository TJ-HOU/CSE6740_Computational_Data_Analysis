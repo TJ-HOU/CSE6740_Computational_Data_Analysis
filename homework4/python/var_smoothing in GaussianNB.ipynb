{
 "cells": [
  {
   "cell_type": "markdown",
   "metadata": {},
   "source": [
    "# Explore var_smoothing in Gaussian Naive Bayers Model in Sklearn"
   ]
  },
  {
   "cell_type": "code",
   "execution_count": 7,
   "metadata": {},
   "outputs": [],
   "source": [
    "import numpy as np\n",
    "import pandas as pd\n",
    "from sklearn.model_selection import train_test_split\n",
    "from sklearn.naive_bayes import GaussianNB\n",
    "from sklearn.datasets import load_iris"
   ]
  },
  {
   "cell_type": "code",
   "execution_count": null,
   "metadata": {},
   "outputs": [],
   "source": [
    "X, y = load_iris(return_X_y=True)\n",
    "X = pd.DataFrame(X)\n",
    "X['dummy'] = 1\n",
    "X_train, X_test, y_train, y_test = train_test_split(X, y, test_size=0.5, random_state=0)"
   ]
  },
  {
   "cell_type": "code",
   "execution_count": 49,
   "metadata": {},
   "outputs": [],
   "source": [
    "def GNB(var_smoothing):\n",
    "    gnb = GaussianNB(var_smoothing = var_smoothing)\n",
    "    y_pred = gnb.fit(X_train, y_train).predict(X_test)\n",
    "    print('*************************************')\n",
    "    print(\"Number of mislabeled points out of a total %d points : %d\"\n",
    "          % (X_test.shape[0], (y_test != y_pred).sum()))\n",
    "    print('*************************************')\n",
    "    print('Variance added to each feature for each class : ', gnb.epsilon_)\n",
    "    print('*************************************')\n",
    "    print('Variances of each feature for each class (each row represents a class) : \\n', gnb.sigma_)\n",
    "    print('*************************************')\n"
   ]
  },
  {
   "cell_type": "markdown",
   "metadata": {},
   "source": [
    "### var_smoothing = 0.0\n",
    "We see the last column in the variance matrix are all zeros. And we get a warning about dividing by zero."
   ]
  },
  {
   "cell_type": "code",
   "execution_count": 51,
   "metadata": {},
   "outputs": [
    {
     "name": "stdout",
     "output_type": "stream",
     "text": [
      "*************************************\n",
      "Number of mislabeled points out of a total 75 points : 54\n",
      "*************************************\n",
      "Variance added to each feature for each class :  0.0\n",
      "*************************************\n",
      "Variances of each feature for each class (each row represents a class) : \n",
      " [[0.10321046 0.13208086 0.01629013 0.00846611 0.        ]\n",
      " [0.256275   0.0829     0.255275   0.046      0.        ]\n",
      " [0.38869822 0.10147929 0.31303254 0.04763314 0.        ]]\n",
      "*************************************\n"
     ]
    },
    {
     "name": "stderr",
     "output_type": "stream",
     "text": [
      "/Applications/anaconda3/lib/python3.7/site-packages/sklearn/naive_bayes.py:434: RuntimeWarning: divide by zero encountered in log\n",
      "  n_ij = - 0.5 * np.sum(np.log(2. * np.pi * self.sigma_[i, :]))\n",
      "/Applications/anaconda3/lib/python3.7/site-packages/sklearn/naive_bayes.py:436: RuntimeWarning: invalid value encountered in true_divide\n",
      "  (self.sigma_[i, :]), 1)\n"
     ]
    }
   ],
   "source": [
    "GNB(0.0)"
   ]
  },
  {
   "cell_type": "markdown",
   "metadata": {},
   "source": [
    "###  var_smoothing = 0.000001"
   ]
  },
  {
   "cell_type": "code",
   "execution_count": 50,
   "metadata": {},
   "outputs": [
    {
     "name": "stdout",
     "output_type": "stream",
     "text": [
      "*************************************\n",
      "Number of mislabeled points out of a total 75 points : 4\n",
      "*************************************\n",
      "Variance added to each feature for each class :  3.639903999999999e-06\n",
      "*************************************\n",
      "Variances of each feature for each class (each row represents a class) : \n",
      " [[1.03214104e-01 1.32084496e-01 1.62937707e-02 8.46975168e-03\n",
      "  3.63990400e-06]\n",
      " [2.56278640e-01 8.29036399e-02 2.55278640e-01 4.60036399e-02\n",
      "  3.63990400e-06]\n",
      " [3.88701865e-01 1.01482930e-01 3.13036184e-01 4.76367760e-02\n",
      "  3.63990400e-06]]\n",
      "*************************************\n"
     ]
    }
   ],
   "source": [
    "GNB(0.000001)"
   ]
  },
  {
   "cell_type": "markdown",
   "metadata": {},
   "source": [
    "###  var_smoothing = 0.1"
   ]
  },
  {
   "cell_type": "code",
   "execution_count": 48,
   "metadata": {},
   "outputs": [
    {
     "name": "stdout",
     "output_type": "stream",
     "text": [
      "*************************************\n",
      "Number of mislabeled points out of a total 75 points : 9\n",
      "*************************************\n",
      "Variance added to each feature for each class :  0.36399039999999994\n",
      "*************************************\n",
      "Variances of each feature for each class (each row represents a class) : \n",
      " [[0.46720086 0.49607126 0.38028053 0.37245651 0.3639904 ]\n",
      " [0.6202654  0.4468904  0.6192654  0.4099904  0.3639904 ]\n",
      " [0.75268862 0.46546969 0.67702294 0.41162354 0.3639904 ]]\n",
      "*************************************\n"
     ]
    }
   ],
   "source": [
    "GNB(0.1)"
   ]
  },
  {
   "cell_type": "markdown",
   "execution_count": null,
   "metadata": {},
   "outputs": [],
   "source": ["If we have a feature $x_i$ with constant value, then Naive Bayes will suffer from dividing by zero when it tries to fit a Gaussian distribution for $x_i$ since the variance of $x_i$ is zero. In Sklearn GaussianNB, this issue is avoided by using a parameter \textbf{var\_smoothing}, which is the portion of the largest variance of all features that is added to variances for calculation stability. If \textbf{var\_smoothing} is too large, the fitted Naive Bayes model will suffer from under-fitting because large variances lead to a simple model."]
  }
 ],
 "metadata": {
  "kernelspec": {
   "display_name": "Python 3",
   "language": "python",
   "name": "python3"
  },
  "language_info": {
   "codemirror_mode": {
    "name": "ipython",
    "version": 3
   },
   "file_extension": ".py",
   "mimetype": "text/x-python",
   "name": "python",
   "nbconvert_exporter": "python",
   "pygments_lexer": "ipython3",
   "version": "3.7.3"
  }
 },
 "nbformat": 4,
 "nbformat_minor": 2
}
