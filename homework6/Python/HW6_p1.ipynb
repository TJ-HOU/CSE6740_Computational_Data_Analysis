{
 "cells": [
  {
   "cell_type": "code",
   "execution_count": 26,
   "metadata": {},
   "outputs": [],
   "source": [
    "import matplotlib.pyplot as plt\n",
    "import numpy as np\n",
    "from math import log,exp"
   ]
  },
  {
   "cell_type": "code",
   "execution_count": 16,
   "metadata": {},
   "outputs": [],
   "source": [
    "X = np.array([[-1,0,1],[-.5,.5,1],[0,1,-1],[.5,1,-1],[1,0,1],[1,-1,1],[0,-1,-1],[0,0,-1]])\n",
    "m = len(X)"
   ]
  },
  {
   "cell_type": "code",
   "execution_count": 93,
   "metadata": {},
   "outputs": [
    {
     "data": {
      "image/png": "[encoded data removed]",
      "text/plain": [
       "<Figure size 432x288 with 1 Axes>"
      ]
     },
     "metadata": {
      "needs_background": "light"
     },
     "output_type": "display_data"
    }
   ],
   "source": [
    "fig, ax = plt.subplots()\n",
    "# ax.scatter(X[:,0],X[:,1],c = X[:,2])\n",
    "ax.plot(-.25*np.ones(200), np.linspace(-1.5,1.5,200),'.')\n",
    "\n",
    "for i in range(len(X)):\n",
    "    ax.annotate('x'+str(i+1), (X[i,0]+.05, X[i,1]+.05))\n",
    "    if X[i,2] == 1:\n",
    "        ax.annotate('+', (X[i,0]- .05, X[i,1]- .05))\n",
    "        ax.scatter(X[i,0],X[i,1], c = 'pink', s = 400 * D1[i])\n",
    "    else:\n",
    "        ax.annotate('--', (X[i,0]- .05, X[i,1]- .05))\n",
    "        ax.scatter(X[i,0],X[i,1], c = 'green',s = 400 * D1[i])\n",
    "plt.xlim(-1.5,1.5)\n",
    "plt.ylim(-1.5,1.5)\n",
    "plt.title('Decision stump at t = 1')\n",
    "plt.savefig('../Latex/images/time1.jpg')"
   ]
  },
  {
   "cell_type": "code",
   "execution_count": 97,
   "metadata": {},
   "outputs": [],
   "source": [
    "D1 = [1/m for i in range(m)]\n",
    "w1, b1 = -1, -.25\n",
    "def h1(x,w,b):\n",
    "    return 1 if w * x + b > 0 else -1\n",
    "e1 = sum([D1[i] * (h1(X[i,0], w1, b1) != X[i,2]) for i in range(m)])\n",
    "a1 = log((1-e1)/e1)/2"
   ]
  },
  {
   "cell_type": "code",
   "execution_count": 98,
   "metadata": {},
   "outputs": [],
   "source": [
    "D2 = np.array([D1[i] * exp(-a1 * X[i,2] * h1(X[i,0], w1, b1)) for i in range(m)])\n",
    "Z1 = sum(D2)\n",
    "D2 = D2 / Z1"
   ]
  },
  {
   "cell_type": "code",
   "execution_count": 94,
   "metadata": {},
   "outputs": [
    {
     "data": {
      "text/plain": [
       "0.25000733365601574"
      ]
     },
     "execution_count": 94,
     "metadata": {},
     "output_type": "execute_result"
    }
   ],
   "source": [
    "3**(1/2)/(8*0.866)"
   ]
  },
  {
   "cell_type": "code",
   "execution_count": 63,
   "metadata": {},
   "outputs": [
    {
     "data": {
      "text/plain": [
       "0.5493061443340549"
      ]
     },
     "execution_count": 63,
     "metadata": {},
     "output_type": "execute_result"
    }
   ],
   "source": []
  },
  {
   "cell_type": "code",
   "execution_count": 62,
   "metadata": {},
   "outputs": [
    {
     "data": {
      "text/plain": [
       "array([0.08333333, 0.08333333, 0.08333333, 0.08333333, 0.25      ,\n",
       "       0.25      , 0.08333333, 0.08333333])"
      ]
     },
     "execution_count": 62,
     "metadata": {},
     "output_type": "execute_result"
    }
   ],
   "source": [
    "D2"
   ]
  },
  {
   "cell_type": "code",
   "execution_count": 64,
   "metadata": {},
   "outputs": [
    {
     "data": {
      "text/plain": [
       "0.8660254037844388"
      ]
     },
     "execution_count": 64,
     "metadata": {},
     "output_type": "execute_result"
    }
   ],
   "source": [
    "Z1"
   ]
  },
  {
   "cell_type": "code",
   "execution_count": 65,
   "metadata": {},
   "outputs": [
    {
     "data": {
      "text/plain": [
       "0.9999999999999998"
      ]
     },
     "execution_count": 65,
     "metadata": {},
     "output_type": "execute_result"
    }
   ],
   "source": [
    "sum(D2)"
   ]
  },
  {
   "cell_type": "code",
   "execution_count": 105,
   "metadata": {},
   "outputs": [
    {
     "data": {
      "image/png": "[encoded data removed]",
      "text/plain": [
       "<Figure size 432x288 with 1 Axes>"
      ]
     },
     "metadata": {
      "needs_background": "light"
     },
     "output_type": "display_data"
    }
   ],
   "source": [
    "fig, ax = plt.subplots()\n",
    "# ax.scatter(X[:,0],X[:,1],c = X[:,2])\n",
    "ax.plot(.75*np.ones(200), np.linspace(-1.5,1.5,200),'.')\n",
    "\n",
    "for i in range(len(X)):\n",
    "    ax.annotate('x'+str(i+1), (X[i,0]+.05, X[i,1]+.05))\n",
    "    if X[i,2] == 1:\n",
    "        ax.annotate('+', (X[i,0]- .05, X[i,1]- .05))\n",
    "        ax.scatter(X[i,0],X[i,1], c = 'pink', s = 400* D2[i])\n",
    "    else:\n",
    "        ax.annotate('--', (X[i,0]- .05, X[i,1]- .05))\n",
    "        ax.scatter(X[i,0],X[i,1], c = 'green', s = 400* D2[i])\n",
    "plt.xlim(-1.5,1.5)\n",
    "plt.ylim(-1.5,1.5)\n",
    "plt.title('Decision stump at t = 2')\n",
    "plt.savefig('../Latex/images/time2.jpg')"
   ]
  },
  {
   "cell_type": "code",
   "execution_count": 95,
   "metadata": {},
   "outputs": [
    {
     "data": {
      "text/plain": [
       "0.166"
      ]
     },
     "execution_count": 95,
     "metadata": {},
     "output_type": "execute_result"
    }
   ],
   "source": [
    "0.083 * 2"
   ]
  },
  {
   "cell_type": "code",
   "execution_count": 99,
   "metadata": {},
   "outputs": [
    {
     "name": "stdout",
     "output_type": "stream",
     "text": [
      "0.16666666666666663 0.8047189562170504\n"
     ]
    }
   ],
   "source": [
    "w2, b2 = 1, -.75\n",
    "def h(x,w,b):\n",
    "    return 1 if w * x + b > 0 else -1\n",
    "e2 = sum([D2[i] * (h(X[i,0], w2, b2) != X[i,2]) for i in range(m)])\n",
    "a2 = log((1-e2)/e2)/2\n",
    "print(e2, a2)"
   ]
  },
  {
   "cell_type": "code",
   "execution_count": 100,
   "metadata": {},
   "outputs": [],
   "source": [
    "D3 = np.array([D2[i] * exp(-a2 * X[i,2] * h(X[i,0], w2, b2)) for i in range(m)])\n",
    "Z2 = sum(D3)\n",
    "D3 = D3 / Z2"
   ]
  },
  {
   "cell_type": "code",
   "execution_count": 107,
   "metadata": {},
   "outputs": [
    {
     "data": {
      "text/plain": [
       "0.7453559924999298"
      ]
     },
     "execution_count": 107,
     "metadata": {},
     "output_type": "execute_result"
    }
   ],
   "source": [
    "Z2"
   ]
  },
  {
   "cell_type": "code",
   "execution_count": 106,
   "metadata": {},
   "outputs": [
    {
     "data": {
      "text/plain": [
       "array([0.25, 0.25, 0.05, 0.05, 0.15, 0.15, 0.05, 0.05])"
      ]
     },
     "execution_count": 106,
     "metadata": {},
     "output_type": "execute_result"
    }
   ],
   "source": [
    "D3"
   ]
  },
  {
   "cell_type": "code",
   "execution_count": 111,
   "metadata": {},
   "outputs": [
    {
     "data": {
      "image/png": "[encoded data removed]",
      "text/plain": [
       "<Figure size 432x288 with 1 Axes>"
      ]
     },
     "metadata": {
      "needs_background": "light"
     },
     "output_type": "display_data"
    }
   ],
   "source": [
    "fig, ax = plt.subplots()\n",
    "# ax.scatter(X[:,0],X[:,1],c = X[:,2])\n",
    "ax.plot(np.linspace(-1.5,1.5,200),.75*np.ones(200),'.')\n",
    "\n",
    "for i in range(len(X)):\n",
    "    ax.annotate('x'+str(i+1), (X[i,0]+.05, X[i,1]+.05))\n",
    "    if X[i,2] == 1:\n",
    "        ax.annotate('+', (X[i,0]- .05, X[i,1]- .05))\n",
    "        ax.scatter(X[i,0],X[i,1], c = 'pink', s = 400* D3[i])\n",
    "    else:\n",
    "        ax.annotate('--', (X[i,0]- .05, X[i,1]- .05))\n",
    "        ax.scatter(X[i,0],X[i,1], c = 'green', s = 400* D3[i])\n",
    "plt.xlim(-1.5,1.5)\n",
    "plt.ylim(-1.5,1.5)\n",
    "plt.title('Decision stump at t = 3')\n",
    "plt.savefig('../Latex/images/time3.jpg')"
   ]
  },
  {
   "cell_type": "code",
   "execution_count": 110,
   "metadata": {},
   "outputs": [
    {
     "data": {
      "text/plain": [
       "0.0498097958448679"
      ]
     },
     "execution_count": 110,
     "metadata": {},
     "output_type": "execute_result"
    }
   ],
   "source": [
    "0.083*exp(-0.805)/0.745"
   ]
  },
  {
   "cell_type": "code",
   "execution_count": 113,
   "metadata": {},
   "outputs": [
    {
     "name": "stdout",
     "output_type": "stream",
     "text": [
      "0.09999999999999998 1.0986122886681098\n"
     ]
    }
   ],
   "source": [
    "w3, b3 = -1, .75\n",
    "def h(x,w,b):\n",
    "    return 1 if w * x + b > 0 else -1\n",
    "e3 = sum([D3[i] * (h(X[i,1], w3, b3) != X[i,2]) for i in range(m)])\n",
    "a3 = log((1-e3)/e3)/2\n",
    "print(e3, a3)"
   ]
  },
  {
   "cell_type": "code",
   "execution_count": 114,
   "metadata": {},
   "outputs": [
    {
     "data": {
      "text/plain": [
       "1.0986122886681098"
      ]
     },
     "execution_count": 114,
     "metadata": {},
     "output_type": "execute_result"
    }
   ],
   "source": [
    "log((1-.1)/.1)/2"
   ]
  },
  {
   "cell_type": "code",
   "execution_count": 115,
   "metadata": {},
   "outputs": [
    {
     "name": "stdout",
     "output_type": "stream",
     "text": [
      "0.6\n"
     ]
    },
    {
     "data": {
      "text/plain": [
       "array([0.13888889, 0.13888889, 0.02777778, 0.02777778, 0.08333333,\n",
       "       0.08333333, 0.25      , 0.25      ])"
      ]
     },
     "execution_count": 115,
     "metadata": {},
     "output_type": "execute_result"
    }
   ],
   "source": [
    "D4 = np.array([D3[i] * exp(-a3 * X[i,2] * h(X[i,1], w3, b3)) for i in range(m)])\n",
    "Z3 = sum(D4)\n",
    "D4 = D4 / Z3\n",
    "print(Z3)\n",
    "D4"
   ]
  },
  {
   "cell_type": "code",
   "execution_count": 117,
   "metadata": {},
   "outputs": [
    {
     "data": {
      "image/png": "[encoded data removed]",
      "text/plain": [
       "<Figure size 432x288 with 1 Axes>"
      ]
     },
     "metadata": {
      "needs_background": "light"
     },
     "output_type": "display_data"
    }
   ],
   "source": [
    "fig, ax = plt.subplots()\n",
    "# ax.scatter(X[:,0],X[:,1],c = X[:,2])\n",
    "# ax.plot(np.linspace(-1.5,1.5,200),.75*np.ones(200),'.')\n",
    "\n",
    "for i in range(len(X)):\n",
    "    ax.annotate('x'+str(i+1), (X[i,0]+.05, X[i,1]+.05))\n",
    "    if X[i,2] == 1:\n",
    "        ax.annotate('+', (X[i,0]- .05, X[i,1]- .05))\n",
    "        ax.scatter(X[i,0],X[i,1], c = 'pink', s = 400* D4[i])\n",
    "    else:\n",
    "        ax.annotate('--', (X[i,0]- .05, X[i,1]- .05))\n",
    "        ax.scatter(X[i,0],X[i,1], c = 'green', s = 400* D4[i])\n",
    "plt.xlim(-1.5,1.5)\n",
    "plt.ylim(-1.5,1.5)\n",
    "plt.title('Decision stump at t = 4')\n",
    "plt.savefig('../Latex/images/time4.jpg')"
   ]
  },
  {
   "cell_type": "code",
   "execution_count": 122,
   "metadata": {},
   "outputs": [],
   "source": [
    "def f3(x1,x2):\n",
    "    a = 0.549 if - x1 - 0.25 > 0 else -0.549\n",
    "    b = 0.805 if   x1 - 0.75 > 0 else -0.805\n",
    "    c = 1.099 if - x2 + 0.75 > 0 else -1.099\n",
    "    return 1 if a + b + c > 0 else -1"
   ]
  },
  {
   "cell_type": "code",
   "execution_count": 123,
   "metadata": {},
   "outputs": [
    {
     "name": "stdout",
     "output_type": "stream",
     "text": [
      "i = 0: f3(x^i)  1 y^i =  1.0\n",
      "i = 1: f3(x^i)  1 y^i =  1.0\n",
      "i = 2: f3(x^i)  -1 y^i =  -1.0\n",
      "i = 3: f3(x^i)  -1 y^i =  -1.0\n",
      "i = 4: f3(x^i)  1 y^i =  1.0\n",
      "i = 5: f3(x^i)  1 y^i =  1.0\n",
      "i = 6: f3(x^i)  -1 y^i =  -1.0\n",
      "i = 7: f3(x^i)  -1 y^i =  -1.0\n"
     ]
    }
   ],
   "source": [
    "for i in range(len(X)):\n",
    "    print('i = ' + str(i) + ': f3(x^i) ', f3(X[i,0], X[i,1]) , 'y^i = ', X[i,2] )"
   ]
  },
  {
   "cell_type": "code",
   "execution_count": null,
   "metadata": {},
   "outputs": [],
   "source": []
  }
 ],
 "metadata": {
  "kernelspec": {
   "display_name": "Python 3",
   "language": "python",
   "name": "python3"
  },
  "language_info": {
   "codemirror_mode": {
    "name": "ipython",
    "version": 3
   },
   "file_extension": ".py",
   "mimetype": "text/x-python",
   "name": "python",
   "nbconvert_exporter": "python",
   "pygments_lexer": "ipython3",
   "version": "3.7.3"
  }
 },
 "nbformat": 4,
 "nbformat_minor": 2
}
